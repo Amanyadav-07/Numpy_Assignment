{
  "nbformat": 4,
  "nbformat_minor": 0,
  "metadata": {
    "colab": {
      "provenance": []
    },
    "kernelspec": {
      "name": "python3",
      "display_name": "Python 3"
    },
    "language_info": {
      "name": "python"
    }
  },
  "cells": [
    {
      "cell_type": "markdown",
      "source": [
        "##1. Create a 3*3 NumPy array with random Integers b/w 1 and 100. Then Interchange its rows and coloumn"
      ],
      "metadata": {
        "id": "gXWLMaBLxAAk"
      }
    },
    {
      "cell_type": "code",
      "execution_count": null,
      "metadata": {
        "colab": {
          "base_uri": "https://localhost:8080/"
        },
        "id": "DbT8lmRnw-DZ",
        "outputId": "2bea7c3d-3e11-4706-f44e-1cc8752e722d"
      },
      "outputs": [
        {
          "output_type": "stream",
          "name": "stdout",
          "text": [
            "[[97 72 94]\n",
            " [36 53 20]\n",
            " [31 10  8]]\n",
            "[[97 36 31]\n",
            " [72 53 10]\n",
            " [94 20  8]]\n"
          ]
        }
      ],
      "source": [
        "#A NumPy array with random Integers b/w 1 and 100.\n",
        "import numpy as np\n",
        "x = np.random.randint(1,100,(3,3))\n",
        "print(x)\n",
        "\n",
        "y = x.T\n",
        "print(y)"
      ]
    },
    {
      "cell_type": "markdown",
      "source": [
        "##2. Generate a 1D NumPy array with 10 elements. Reshape it into a 2 * 5 array, then into a 5 * 2 array."
      ],
      "metadata": {
        "id": "YLonRs2Txnpb"
      }
    },
    {
      "cell_type": "code",
      "source": [
        "# NumPy array with 10 elements. Reshape it into a 2 * 5 array, then into a 5 * 2 array.\n",
        "a = np.arange(10)\n",
        "print(a)\n",
        "b = a.reshape(2,5)\n",
        "print(b)\n",
        "c = a.reshape(5,2)\n",
        "print(c)"
      ],
      "metadata": {
        "colab": {
          "base_uri": "https://localhost:8080/"
        },
        "id": "TUV2vFT1x2QX",
        "outputId": "47d8e128-02a9-482e-c0ed-230cc7c2476b"
      },
      "execution_count": null,
      "outputs": [
        {
          "output_type": "stream",
          "name": "stdout",
          "text": [
            "[0 1 2 3 4 5 6 7 8 9]\n",
            "[[0 1 2 3 4]\n",
            " [5 6 7 8 9]]\n",
            "[[0 1]\n",
            " [2 3]\n",
            " [4 5]\n",
            " [6 7]\n",
            " [8 9]]\n"
          ]
        }
      ]
    },
    {
      "cell_type": "markdown",
      "source": [
        "##3. Create a 4 * 4 NumPy array with random float values.Add a border of zeros around it, resulting in a 6 * 6 array."
      ],
      "metadata": {
        "id": "OvuKbUFCyLA1"
      }
    },
    {
      "cell_type": "code",
      "source": [
        "#a 4 * 4 NumPy array with random float values.Add a border of zeros around it, resulting in a 6 * 6 array.\n",
        "d = np.random.random((4,4))\n",
        "print(d)\n",
        "e = np.pad(d, pad_width=1, mode='constant', constant_values=0)\n",
        "print(e)"
      ],
      "metadata": {
        "colab": {
          "base_uri": "https://localhost:8080/"
        },
        "id": "Z1Cx_AQzyg8u",
        "outputId": "30b8e63b-5c2c-4cc0-fc94-785b14e20eb5"
      },
      "execution_count": null,
      "outputs": [
        {
          "output_type": "stream",
          "name": "stdout",
          "text": [
            "[[0.76903816 0.62263122 0.059928   0.17547041]\n",
            " [0.59443875 0.03847673 0.04896803 0.15739763]\n",
            " [0.13988218 0.92878329 0.48941515 0.64372937]\n",
            " [0.47915013 0.8618695  0.67582129 0.88458206]]\n",
            "[[0.         0.         0.         0.         0.         0.        ]\n",
            " [0.         0.76903816 0.62263122 0.059928   0.17547041 0.        ]\n",
            " [0.         0.59443875 0.03847673 0.04896803 0.15739763 0.        ]\n",
            " [0.         0.13988218 0.92878329 0.48941515 0.64372937 0.        ]\n",
            " [0.         0.47915013 0.8618695  0.67582129 0.88458206 0.        ]\n",
            " [0.         0.         0.         0.         0.         0.        ]]\n"
          ]
        }
      ]
    },
    {
      "cell_type": "markdown",
      "source": [
        "##4. Using NumPy, create an array of integers from 10 to 60 with a step of 5.\n"
      ],
      "metadata": {
        "id": "5vzyEJICyp_q"
      }
    },
    {
      "cell_type": "code",
      "source": [
        "# create an arry of integers from 10 to 60 with a step of 5.\n",
        "f = np.arange(10,60,5)\n",
        "print(f)"
      ],
      "metadata": {
        "colab": {
          "base_uri": "https://localhost:8080/"
        },
        "id": "A_MX7OEey8Um",
        "outputId": "f6841773-d368-481d-b0eb-8ba3f7431e1a"
      },
      "execution_count": null,
      "outputs": [
        {
          "output_type": "stream",
          "name": "stdout",
          "text": [
            "[10 15 20 25 30 35 40 45 50 55]\n"
          ]
        }
      ]
    },
    {
      "cell_type": "markdown",
      "source": [
        "##5. Create a NumPy array of strings['python','numpy','pandas']. Apply different case transformation (uppercase,lowercase,title case,etc) to each statement."
      ],
      "metadata": {
        "id": "pNB7wIcFzHCD"
      }
    },
    {
      "cell_type": "code",
      "source": [
        "# Create a NumPy array of strings\n",
        "arr = np.array(['Python', 'nUmpy', 'paNdas'])\n",
        "\n",
        "# Apply different case transformations\n",
        "uppercase_arr = np.char.upper(arr)\n",
        "lowercase_arr = np.char.lower(arr)\n",
        "titlecase_arr = np.char.title(arr)\n",
        "\n",
        "print(uppercase_arr)\n",
        "print(lowercase_arr)\n",
        "print(titlecase_arr)\n"
      ],
      "metadata": {
        "colab": {
          "base_uri": "https://localhost:8080/"
        },
        "id": "FBE_ls9SzhAM",
        "outputId": "9a7c1049-d1fd-4e5a-e6a0-aa87c4bb8d0b"
      },
      "execution_count": 13,
      "outputs": [
        {
          "output_type": "stream",
          "name": "stdout",
          "text": [
            "['PYTHON' 'NUMPY' 'PANDAS']\n",
            "['python' 'numpy' 'pandas']\n",
            "['Python' 'Numpy' 'Pandas']\n"
          ]
        }
      ]
    },
    {
      "cell_type": "markdown",
      "source": [
        "##6. Generate a NumPy array of words. Insert a space b/w each character of every word in the array."
      ],
      "metadata": {
        "id": "59lviV3h1Ny_"
      }
    },
    {
      "cell_type": "code",
      "source": [
        "# Insert a space b/w each character of every word in the array.\n",
        "g = np.array(['python', 'numpy', 'pandas'])\n",
        "h = np.char.join(' ', g)\n",
        "print(h)\n"
      ],
      "metadata": {
        "colab": {
          "base_uri": "https://localhost:8080/"
        },
        "id": "auBt3qb41cB4",
        "outputId": "35a90e0b-09db-4215-e504-61b76198f2c9"
      },
      "execution_count": 16,
      "outputs": [
        {
          "output_type": "stream",
          "name": "stdout",
          "text": [
            "['p y t h o n' 'n u m p y' 'p a n d a s']\n"
          ]
        }
      ]
    },
    {
      "cell_type": "markdown",
      "source": [
        "##7. Create two 2D NumPy arrays and perform element-wise addtion, subtraction, multiplication, and division.\n"
      ],
      "metadata": {
        "id": "ZowNG_-M2j2a"
      }
    },
    {
      "cell_type": "code",
      "source": [
        "#Create two 2D NumPy arrays and perform element-wise addtion, subtraction, multiplication, and division\n",
        "\n",
        "# Create two 2D NumPy arrays\n",
        "array1 = np.array([[1, 2, 3],\n",
        "                   [4, 5, 6]])\n",
        "\n",
        "array2 = np.array([[7, 8, 9],\n",
        "                   [10, 11, 12]])\n",
        "\n",
        "# Element-wise addition\n",
        "addition = array1 + array2\n",
        "\n",
        "# Element-wise subtraction\n",
        "subtraction = array1 - array2\n",
        "\n",
        "# Element-wise multiplication\n",
        "multiplication = array1 * array2\n",
        "\n",
        "# Element-wise multiplication\n",
        "division = array1 / array2\n",
        "\n",
        "# Print the results\n",
        "print(\"Array 1:\")\n",
        "print(array1)\n",
        "\n",
        "print(\"\\nArray 2:\")\n",
        "print(array2)\n",
        "\n",
        "print(\"\\nElement-wise addition:\")\n",
        "print(addition)\n",
        "\n",
        "print(\"\\nElement-wise subtraction:\")\n",
        "print(subtraction)\n",
        "\n",
        "print(\"\\nElement-wise multiplication:\")\n",
        "print(multiplication)\n",
        "\n",
        "print(\"\\nElement-wise division:\")\n",
        "print(division)"
      ],
      "metadata": {
        "colab": {
          "base_uri": "https://localhost:8080/"
        },
        "id": "V2WVuQ4N25kJ",
        "outputId": "c6a3fd72-1cd5-4434-9b75-14bb7ea2a43f"
      },
      "execution_count": 21,
      "outputs": [
        {
          "output_type": "stream",
          "name": "stdout",
          "text": [
            "Array 1:\n",
            "[[1 2 3]\n",
            " [4 5 6]]\n",
            "\n",
            "Array 2:\n",
            "[[ 7  8  9]\n",
            " [10 11 12]]\n",
            "\n",
            "Element-wise addition:\n",
            "[[ 8 10 12]\n",
            " [14 16 18]]\n",
            "\n",
            "Element-wise subtraction:\n",
            "[[-6 -6 -6]\n",
            " [-6 -6 -6]]\n",
            "\n",
            "Element-wise multiplication:\n",
            "[[ 7 16 27]\n",
            " [40 55 72]]\n",
            "\n",
            "Element-wise division:\n",
            "[[0.14285714 0.25       0.33333333]\n",
            " [0.4        0.45454545 0.5       ]]\n"
          ]
        }
      ]
    },
    {
      "cell_type": "markdown",
      "source": [
        "##8. Use NumPy to create a 5 * 5 identity matrix, then extract diagonal elements.\n"
      ],
      "metadata": {
        "id": "mVce6Gc74_1K"
      }
    },
    {
      "cell_type": "code",
      "source": [
        "# create a 5 * 5 identity matrix, then extract diagonal elements.\n",
        "i = np.eye(5)\n",
        "print(i)\n",
        "\n",
        "diagonal_elements = np.diag(i)\n",
        "print(diagonal_elements)"
      ],
      "metadata": {
        "colab": {
          "base_uri": "https://localhost:8080/"
        },
        "id": "35JIEJYy5hBW",
        "outputId": "0693f0f3-744c-43c4-ea54-356b24055d5e"
      },
      "execution_count": 26,
      "outputs": [
        {
          "output_type": "stream",
          "name": "stdout",
          "text": [
            "[[1. 0. 0. 0. 0.]\n",
            " [0. 1. 0. 0. 0.]\n",
            " [0. 0. 1. 0. 0.]\n",
            " [0. 0. 0. 1. 0.]\n",
            " [0. 0. 0. 0. 1.]]\n",
            "[1. 1. 1. 1. 1.]\n"
          ]
        }
      ]
    },
    {
      "cell_type": "markdown",
      "source": [
        "##9. Generates a NumPy array of 100 random integers b/w 0 and 1000. Find and display all prime numbers in array."
      ],
      "metadata": {
        "id": "Nl4uJC9v585B"
      }
    },
    {
      "cell_type": "code",
      "source": [
        "#array of 100 random integers b/w 0 and 1000. Find and display all prime numbers in array.\n",
        "\n",
        "import numpy as np\n",
        "\n",
        "# Generate array of 100 random integers between 0 and 1000\n",
        "random_integers = np.random.randint(0, 1001, 100)\n",
        "\n",
        "# Function to check if a number is prime\n",
        "def is_prime(num):\n",
        "    if num <= 1:\n",
        "        return False\n",
        "    elif num <= 3:\n",
        "        return True\n",
        "    elif num % 2 == 0 or num % 3 == 0:\n",
        "        return False\n",
        "    i = 5\n",
        "    while i * i <= num:\n",
        "        if num % i == 0 or num % (i + 2) == 0:\n",
        "            return False\n",
        "        i += 6\n",
        "    return True\n",
        "\n",
        "# Find prime numbers in the array using vectorized approach\n",
        "prime_mask = np.vectorize(is_prime)(random_integers)\n",
        "prime_numbers = random_integers[prime_mask]\n",
        "\n",
        "# Print the original array and prime numbers\n",
        "print(\"Original array:\")\n",
        "print(random_integers)\n",
        "\n",
        "print(\"\\nPrime numbers in the array:\")\n",
        "print(prime_numbers)\n"
      ],
      "metadata": {
        "colab": {
          "base_uri": "https://localhost:8080/"
        },
        "id": "cBac4R416Mam",
        "outputId": "d77addb4-a2a8-4b94-9152-e4abe86813fd"
      },
      "execution_count": 27,
      "outputs": [
        {
          "output_type": "stream",
          "name": "stdout",
          "text": [
            "Original array:\n",
            "[ 62 399 250  29 785 252 446 483 649 163 597 524 313 128 709 442 523 680\n",
            " 323 869  62 253 246 739 323 130 257 478  28 869 757 373 164 187 989 325\n",
            " 989 456 982 250 682 861 661 263 891 475 281  91 925 203 291 363 486 681\n",
            "  39 693 815 985 558 640 120 600 617 924 380  29 510 875 196 851  34 251\n",
            " 206 305 326 387 184 920 770 731 256 719 900 960 109 438 305   4 292 400\n",
            "  57  36 265 961 637 667 917 576 678 630]\n",
            "\n",
            "Prime numbers in the array:\n",
            "[ 29 163 313 709 523 739 257 757 373 661 263 281 617  29 251 719 109]\n"
          ]
        }
      ]
    },
    {
      "cell_type": "markdown",
      "source": [
        "##10. Create a Numpy array representing daily tempretures for a month. Calculate and display the weekly averages."
      ],
      "metadata": {
        "id": "x_kyEuz96lwe"
      }
    },
    {
      "cell_type": "code",
      "source": [
        "# Create a NumPy array representing daily temperatures for a month. Calculate and display the weekly averages.\n",
        "\n",
        "np.random.seed(0)\n",
        "\n",
        "daily_temperatures = np.random.randint(10, 30, size=(35,))\n",
        "\n",
        "print(\"Daily Temperatures:\")\n",
        "print(daily_temperatures)\n",
        "\n",
        "weekly_averages = np.mean(daily_temperatures.reshape(-1, 7), axis=1)\n",
        "\n",
        "print(\"\\nWeekly Averages:\")\n",
        "print(weekly_averages)\n"
      ],
      "metadata": {
        "colab": {
          "base_uri": "https://localhost:8080/"
        },
        "id": "NXHZb0S16_Lr",
        "outputId": "ce0a4c35-50b0-4dcf-dba9-b2a51fc51e3d"
      },
      "execution_count": 34,
      "outputs": [
        {
          "output_type": "stream",
          "name": "stdout",
          "text": [
            "Daily Temperatures:\n",
            "[22 25 10 13 13 17 19 29 28 14 16 22 11 16 17 24 27 15 23 18 19 29 26 29\n",
            " 15 25 25 10 28 13 27 29 29 29 24]\n",
            "\n",
            "Weekly Averages:\n",
            "[17.         19.42857143 20.42857143 22.71428571 25.57142857]\n"
          ]
        }
      ]
    }
  ]
}